{
  "nbformat": 4,
  "nbformat_minor": 0,
  "metadata": {
    "colab": {
      "provenance": [],
      "gpuType": "T4"
    },
    "kernelspec": {
      "name": "python3",
      "display_name": "Python 3"
    },
    "language_info": {
      "name": "python"
    },
    "accelerator": "GPU"
  },
  "cells": [
    {
      "cell_type": "code",
      "execution_count": 1,
      "metadata": {
        "id": "6xYi7quSfCEi"
      },
      "outputs": [],
      "source": [
        "import pandas as pd\n",
        "from sklearn.feature_extraction.text import TfidfVectorizer\n",
        "from sklearn.metrics.pairwise import cosine_similarity\n",
        "\n",
        "# Loading the dataset\n",
        "df = pd.read_csv(\"data.csv\")\n",
        "\n",
        "# Vectorizing the prompts from the dataset\n",
        "vectorizer = TfidfVectorizer()\n",
        "X = vectorizer.fit_transform(df['prompt'])\n",
        "\n",
        "\n",
        "\n",
        "\n"
      ]
    },
    {
      "cell_type": "code",
      "source": [
        "#Function to generate response to matching response from dataset\n",
        "def get_response(user_input):\n",
        "    user_vec = vectorizer.transform([user_input])\n",
        "    similarities = cosine_similarity(user_vec, X)\n",
        "    best_match_index = similarities.argmax()\n",
        "    return df['response'].iloc[best_match_index]"
      ],
      "metadata": {
        "id": "NXXxwjsH2vJH"
      },
      "execution_count": 2,
      "outputs": []
    },
    {
      "cell_type": "code",
      "source": [
        "# Main Function\n",
        "if __name__ == \"__main__\":\n",
        "    print(\"Enter your Query\")\n",
        "    while True:\n",
        "        user_input = input(\"You: \")\n",
        "        if user_input.lower() == 'exit':\n",
        "            break\n",
        "        response = get_response(user_input)\n",
        "        print(\"Bot:\", response)"
      ],
      "metadata": {
        "colab": {
          "base_uri": "https://localhost:8080/"
        },
        "id": "ywZbAbs82xfX",
        "outputId": "2394fbf2-b719-4435-bd98-1c96da524aac"
      },
      "execution_count": 4,
      "outputs": [
        {
          "name": "stdout",
          "output_type": "stream",
          "text": [
            "Enter your Query\n",
            "You: Who invented Light Bulb\n",
            "Bot: Thomas Edison is credited with inventing the first commercially practicable incandescent light bulb in 1879. He initially developed an incandescent light that lasted 14 hours before going out, but he gradually improved the design and by 1889, he was able to produce a bulb that could last 1,200 hours.\n",
            "You: Explain the Story of Romeo and Juliet\n",
            "Bot: Here is a quick summary of the famous play Romeo and Juliet by William Shakespeare:\n",
            "\n",
            "• Romeo and Juliet belong to two feuding families, the Capulets and the Montagues, in the city of Verona.\n",
            "\n",
            "• Romeo, a Montague, falls in love with Juliet, a Capulet, at a party he attends in disguise. They instantly fall in love.\n",
            "\n",
            "• They profess their love for each other and secretly get married with the help of Friar Laurence.\n",
            "\n",
            "• However, soon after their wedding, a fight breaks out between the Capulets and Montagues in which Juliet's cousin Tybalt kills Romeo's friend Mercutio. In turn, Romeo kills Tybalt and is banished from Verona.\n",
            "\n",
            "• Miscommunications lead both Romeo and Juliet to mistakenly believe the other is dead and they both commit suicide in despair, hoping to reunite in the afterlife.\n",
            "\n",
            "• The two feuding families finally end their feud when they realize the tragedy that their rivalry has caused.\n",
            "\n",
            "• The story is a classic tragedy of two young star-crossed lovers. Their deaths ultimately unite their feuding households.\n",
            "\n",
            "• Key themes include love, passion, youth versus age, fate, and the conflict between emotion and reason.\n",
            "\n",
            "That's a high-level summary and the key plot points in the famous love story of Romeo and Juliet by William Shakespeare. Let me know if you would like me to elaborate on any part of the summary.\n",
            "You: Exit\n"
          ]
        }
      ]
    }
  ]
}